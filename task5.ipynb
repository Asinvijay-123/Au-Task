{
 "cells": [
  {
   "cell_type": "code",
   "execution_count": 43,
   "id": "917fc213-58f1-488f-a11f-3edac613faf1",
   "metadata": {},
   "outputs": [],
   "source": [
    "\n",
    "\n",
    "class Rectangle:\n",
    "    def __init__(self,length,width):\n",
    "        self.length=length\n",
    "        self.width=width\n",
    "    def perimeter(self):\n",
    "        perimeter=2*(self.length+self.width)\n",
    "        print(perimeter)\n",
    "    def Area(self):\n",
    "        Area=self.length*self.width\n",
    "        print(Area)\n",
    "    def display(self):\n",
    "        print(\"The length of rectangle is:\",self.length)\n",
    "        print(\"The width of rectangle is:\",self.width)\n",
    "        print(\"The preimeter of rectangle is:\")\n",
    "        self.perimeter()\n",
    "        print(\"The area of rectangle is:\" )\n",
    "        self.Area()\n",
    "        \n",
    "    "
   ]
  },
  {
   "cell_type": "code",
   "execution_count": 44,
   "id": "31db4cb1-9d2e-40b2-b28b-8e37a341880c",
   "metadata": {},
   "outputs": [],
   "source": [
    "rect=Rectangle(3,4)"
   ]
  },
  {
   "cell_type": "code",
   "execution_count": 45,
   "id": "a28211c6-7663-4ff7-ad80-0c2ebe209a3d",
   "metadata": {},
   "outputs": [
    {
     "name": "stdout",
     "output_type": "stream",
     "text": [
      "14\n"
     ]
    }
   ],
   "source": [
    "rect.perimeter()"
   ]
  },
  {
   "cell_type": "code",
   "execution_count": 46,
   "id": "91a9f9a3-9ba8-45b4-bc0c-566dcce46bf8",
   "metadata": {},
   "outputs": [
    {
     "data": {
      "text/plain": [
       "<__main__.Rectangle at 0x277875c23d0>"
      ]
     },
     "execution_count": 46,
     "metadata": {},
     "output_type": "execute_result"
    }
   ],
   "source": [
    "rect"
   ]
  },
  {
   "cell_type": "code",
   "execution_count": 47,
   "id": "c1e1d848-1b3d-4ecf-bcaa-705994a6ab5f",
   "metadata": {},
   "outputs": [
    {
     "name": "stdout",
     "output_type": "stream",
     "text": [
      "The length of rectangle is: 3\n",
      "The width of rectangle is: 4\n",
      "The preimeter of rectangle is:\n",
      "14\n",
      "The area of rectangle is:\n",
      "12\n"
     ]
    }
   ],
   "source": [
    "rect.display()"
   ]
  },
  {
   "cell_type": "code",
   "execution_count": 22,
   "id": "06e5ac73-b998-4f33-9382-622ddcd5680b",
   "metadata": {},
   "outputs": [],
   "source": [
    "class BankAccount:\n",
    "    def __init__(self,account_number,name,balance):\n",
    "        self.account_number=account_number\n",
    "        self.name=name\n",
    "        self.balance=balance\n",
    "    def deposit(self):\n",
    "        deposit=int(input(\"enter the amount for you want to deposit\"))\n",
    "        current_balance=deposit\n",
    "        self.balance=current_balance+self.balance\n",
    "        print(self.balance)\n",
    "    \n",
    "    def withdrwal(self):\n",
    "        withdrawl=int(input(\"enter the amount for you want to withdraw\"))\n",
    "        self.balance=self.balance-withdrawl\n",
    "        print(self.balance)\n",
    "        if self.balance==0:\n",
    "           print(\"insufficent balance\")\n",
    "    def display(self):\n",
    "        print(\"Account Number : \",self.account_number)\n",
    "        print(\"Account Name :\",self.name)\n",
    "        print(\"Account Balance:\",self.balance)\n",
    "        \n",
    "        "
   ]
  },
  {
   "cell_type": "code",
   "execution_count": 23,
   "id": "56dacba9-efec-4467-a654-06a48bf4eb0f",
   "metadata": {},
   "outputs": [],
   "source": [
    "newAccount=BankAccount(2178514584,\"Mandy\",2800)"
   ]
  },
  {
   "cell_type": "code",
   "execution_count": 25,
   "id": "79d13f1b-b492-4e0e-a47e-e752fa45b1c3",
   "metadata": {},
   "outputs": [
    {
     "name": "stdin",
     "output_type": "stream",
     "text": [
      "enter the amount for you want to withdraw 4500\n"
     ]
    },
    {
     "name": "stdout",
     "output_type": "stream",
     "text": [
      "-1700\n"
     ]
    }
   ],
   "source": [
    "newAccount.withdrwal()\n",
    "\n"
   ]
  },
  {
   "cell_type": "code",
   "execution_count": 26,
   "id": "20317bdb-b266-43e6-b61e-46e2ca6e552f",
   "metadata": {},
   "outputs": [
    {
     "name": "stdin",
     "output_type": "stream",
     "text": [
      "enter the amount for you want to deposit 500\n"
     ]
    },
    {
     "name": "stdout",
     "output_type": "stream",
     "text": [
      "-1200\n"
     ]
    }
   ],
   "source": [
    "newAccount.deposit()\n",
    "\n"
   ]
  },
  {
   "cell_type": "code",
   "execution_count": 27,
   "id": "40c56034-a96b-422a-b7df-ff6d686f7ed4",
   "metadata": {},
   "outputs": [
    {
     "name": "stdin",
     "output_type": "stream",
     "text": [
      "enter the amount for you want to deposit 100000\n"
     ]
    },
    {
     "name": "stdout",
     "output_type": "stream",
     "text": [
      "98800\n"
     ]
    }
   ],
   "source": [
    "newAccount.deposit()\n"
   ]
  },
  {
   "cell_type": "code",
   "execution_count": 28,
   "id": "12b868f1-16eb-4513-9e89-db6c88eb6685",
   "metadata": {},
   "outputs": [
    {
     "name": "stdout",
     "output_type": "stream",
     "text": [
      "Account Number :  2178514584\n",
      "Account Name : Mandy\n",
      "Account Balance: 98800\n"
     ]
    }
   ],
   "source": [
    "newAccount.display()"
   ]
  },
  {
   "cell_type": "code",
   "execution_count": 12,
   "id": "b1e4bb90-1ff6-4f83-b28f-5b18c0614161",
   "metadata": {},
   "outputs": [],
   "source": [
    "a=Computation()\n"
   ]
  },
  {
   "cell_type": "code",
   "execution_count": 13,
   "id": "2c5b1ebb-ca2b-4bae-bfe8-e800a4285bdc",
   "metadata": {},
   "outputs": [
    {
     "data": {
      "text/plain": [
       "[120]"
      ]
     },
     "execution_count": 13,
     "metadata": {},
     "output_type": "execute_result"
    }
   ],
   "source": [
    "[a.factorial(5)]  \n"
   ]
  },
  {
   "cell_type": "code",
   "execution_count": 14,
   "id": "49256d89-3f9e-4305-9ff5-de08f0ba39c8",
   "metadata": {},
   "outputs": [
    {
     "data": {
      "text/plain": [
       "15"
      ]
     },
     "execution_count": 14,
     "metadata": {},
     "output_type": "execute_result"
    }
   ],
   "source": [
    "a.naturalSum(5)"
   ]
  },
  {
   "cell_type": "code",
   "execution_count": null,
   "id": "00c2de18-b745-49b2-b1fe-69160526e5e2",
   "metadata": {},
   "outputs": [],
   "source": []
  },
  {
   "cell_type": "code",
   "execution_count": 29,
   "id": "053fbb58-9151-411e-8e8c-949c7170364d",
   "metadata": {},
   "outputs": [],
   "source": [
    "class Computation:\n",
    "    def __init__(self):\n",
    "        pass\n",
    "    def factorial(self,n):\n",
    "        from functools import reduce\n",
    "        factorial=lambda n:reduce(lambda x,y:x*y,range(1,n+1))\n",
    "        return factorial(n)\n",
    "    def naturalSum(self,n):\n",
    "        from functools import reduce\n",
    "        sum=lambda n:reduce(lambda x,y:x+y,range(1,n+1))\n",
    "        return sum(n)\n",
    "    "
   ]
  },
  {
   "cell_type": "code",
   "execution_count": 32,
   "id": "124cd971-db4d-47e7-8b77-f9270b01135d",
   "metadata": {},
   "outputs": [],
   "source": [
    "a=Computation()"
   ]
  },
  {
   "cell_type": "code",
   "execution_count": 33,
   "id": "d24b609a-b010-4971-9666-2c5bf695f7b4",
   "metadata": {},
   "outputs": [
    {
     "data": {
      "text/plain": [
       "120"
      ]
     },
     "execution_count": 33,
     "metadata": {},
     "output_type": "execute_result"
    }
   ],
   "source": [
    "a.factorial(5)"
   ]
  },
  {
   "cell_type": "code",
   "execution_count": 34,
   "id": "fc49644c-b5b3-455f-b94e-03d240d770be",
   "metadata": {},
   "outputs": [
    {
     "data": {
      "text/plain": [
       "1275"
      ]
     },
     "execution_count": 34,
     "metadata": {},
     "output_type": "execute_result"
    }
   ],
   "source": [
    "a.naturalSum(50)"
   ]
  },
  {
   "cell_type": "code",
   "execution_count": null,
   "id": "a2ddc072-0cba-4deb-93e5-43454c69bd71",
   "metadata": {},
   "outputs": [],
   "source": []
  }
 ],
 "metadata": {
  "kernelspec": {
   "display_name": "Python 3 (ipykernel)",
   "language": "python",
   "name": "python3"
  },
  "language_info": {
   "codemirror_mode": {
    "name": "ipython",
    "version": 3
   },
   "file_extension": ".py",
   "mimetype": "text/x-python",
   "name": "python",
   "nbconvert_exporter": "python",
   "pygments_lexer": "ipython3",
   "version": "3.11.7"
  }
 },
 "nbformat": 4,
 "nbformat_minor": 5
}
