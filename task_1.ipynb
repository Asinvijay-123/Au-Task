{
  "cells": [
    {
      "cell_type": "code",
      "execution_count": 2,
      "metadata": {
        "colab": {
          "base_uri": "https://localhost:8080/"
        },
        "id": "4q8J6anIEMjS",
        "outputId": "db0e5ba4-14cd-46ac-a84b-8f698c178343"
      },
      "outputs": [
        {
          "ename": "ValueError",
          "evalue": "invalid literal for int() with base 10: ''",
          "output_type": "error",
          "traceback": [
            "\u001b[1;31m---------------------------------------------------------------------------\u001b[0m",
            "\u001b[1;31mValueError\u001b[0m                                Traceback (most recent call last)",
            "Cell \u001b[1;32mIn[2], line 3\u001b[0m\n\u001b[0;32m      1\u001b[0m \u001b[38;5;66;03m#Task 1\u001b[39;00m\n\u001b[0;32m      2\u001b[0m \u001b[38;5;66;03m#Q2:- Write a program that will convert celsius value to fahrenheit.\u001b[39;00m\n\u001b[1;32m----> 3\u001b[0m Celc\u001b[38;5;241m=\u001b[39m\u001b[38;5;28mint\u001b[39m(\u001b[38;5;28minput\u001b[39m(\u001b[38;5;124m\"\u001b[39m\u001b[38;5;124menter the degree \u001b[39m\u001b[38;5;124m\"\u001b[39m))\n\u001b[0;32m      4\u001b[0m Farh\u001b[38;5;241m=\u001b[39m (\u001b[38;5;241m9\u001b[39m\u001b[38;5;241m/\u001b[39m\u001b[38;5;241m/\u001b[39m\u001b[38;5;241m5\u001b[39m \u001b[38;5;241m*\u001b[39m Celc) \u001b[38;5;241m+\u001b[39m \u001b[38;5;241m32\u001b[39m\n\u001b[0;32m      5\u001b[0m \u001b[38;5;28mprint\u001b[39m(Farh,\u001b[38;5;124m\"\u001b[39m\u001b[38;5;124mf\u001b[39m\u001b[38;5;124m\"\u001b[39m)\n",
            "\u001b[1;31mValueError\u001b[0m: invalid literal for int() with base 10: ''"
          ]
        }
      ],
      "source": [
        "#Task 1\n",
        "#Q2:- Write a program that will convert celsius value to fahrenheit.\n",
        "Celc=int(input(\"enter the degree \"))\n",
        "Farh= (9//5 * Celc) + 32\n",
        "print(Farh,\"f\")"
      ]
    },
    {
      "cell_type": "code",
      "execution_count": null,
      "metadata": {
        "colab": {
          "base_uri": "https://localhost:8080/"
        },
        "id": "6AvYLck5Q0xE",
        "outputId": "f0131da1-6094-44b6-d8c4-9edc48a9a5af"
      },
      "outputs": [
        {
          "name": "stdout",
          "output_type": "stream",
          "text": [
            "enter the first number50\n",
            "enter the second number85\n",
            "85\n"
          ]
        }
      ],
      "source": [
        "#Q3:- Take 2 numbers as input from the user.Write a program to swap the numbers without using any special python syntax\n",
        "number1=int(input(\"enter the first number\"))\n",
        "number2=int(input(\"enter the second number\"))\n",
        "temp=0\n",
        "temp=number1\n",
        "number1=number2\n",
        "temp=number2\n",
        "print(number1)\n"
      ]
    },
    {
      "cell_type": "code",
      "execution_count": null,
      "metadata": {
        "colab": {
          "base_uri": "https://localhost:8080/"
        },
        "id": "eyIqeoHWT0RJ",
        "outputId": "6ebe2447-05c3-4500-a350-620cef2741ab"
      },
      "outputs": [
        {
          "name": "stdout",
          "output_type": "stream",
          "text": [
            "enter the coordinate x1 1\n",
            "enter the coordinate x24\n",
            "enter the coordinate y1 2\n",
            "enter the coordinate y26\n",
            "5.0\n"
          ]
        }
      ],
      "source": [
        "#Write a program to find the euclidean distance between two coordinates.Take both the coordinates from the user as input\n",
        "import math\n",
        "x1=int(input(\"enter the coordinate x1 \"))\n",
        "x2=int(input(\"enter the coordinate x2\"))\n",
        "y1=int(input(\"enter the coordinate y1 \"))\n",
        "y2=int(input(\"enter the coordinate y2\"))\n",
        "distance=(x2 - x1)**2 + (y2 - y1)**2\n",
        "distance=math.sqrt(distance)\n",
        "print(distance)\n"
      ]
    },
    {
      "cell_type": "code",
      "execution_count": null,
      "metadata": {
        "colab": {
          "base_uri": "https://localhost:8080/"
        },
        "id": "zma9K5i-hDAd",
        "outputId": "44486a02-1166-4633-9471-ca5f672a2f79"
      },
      "outputs": [
        {
          "name": "stdout",
          "output_type": "stream",
          "text": [
            "enter the principle value1000\n",
            "enter the rate value2\n",
            "enter the time value5\n",
            "100.0\n"
          ]
        }
      ],
      "source": [
        "from re import T\n",
        "#Write a program to find the simple interest when the value of principle,rate of interest and time period is provided by the user.\n",
        "p=int(input(\"enter the principle value\"))\n",
        "r=int(input(\"enter the rate value\"))\n",
        "t=int(input(\"enter the time value\"))\n",
        "si=(p*r*t)/100\n",
        "print(si)\n"
      ]
    },
    {
      "cell_type": "code",
      "execution_count": null,
      "metadata": {
        "colab": {
          "base_uri": "https://localhost:8080/"
        },
        "id": "bGLeIxAIj36E",
        "outputId": "66728543-041c-4162-d00f-96892256eb66"
      },
      "outputs": [
        {
          "name": "stdout",
          "output_type": "stream",
          "text": [
            "enter the number of heads at persent 2\n",
            "enter the number of legs at present5\n",
            "2\n",
            "3\n",
            "4\n"
          ]
        }
      ],
      "source": [
        "\"\"\" Q6:- Write a program that will tell the number of dogs and chicken are there when the user will provide the value of total heads and legs.\n",
        "\n",
        "For example:\n",
        "Input:\n",
        "heads -> 4\n",
        "legs -> 12\n",
        "<br>\n",
        "Output:\n",
        "dogs -> 2\n",
        "chicken -> 2 \"\"\"\n",
        "head=int(input(\"enter the number of heads at persent \"))\n",
        "legs=int(input(\"enter the number of legs at present\"))\n",
        "dog_head=1\n",
        "dog_leg=4\n",
        "chicken_head=1\n",
        "chicken_leg=2\n",
        "for i in range(head,legs):\n",
        "  print(i)\n",
        "\n",
        "\n",
        "\n"
      ]
    },
    {
      "cell_type": "code",
      "execution_count": null,
      "metadata": {
        "colab": {
          "base_uri": "https://localhost:8080/"
        },
        "id": "UUUI9kGOqndV",
        "outputId": "b2265201-c2d4-4685-d524-675ff186cece"
      },
      "outputs": [
        {
          "name": "stdout",
          "output_type": "stream",
          "text": [
            "enter the number5\n",
            "55\n"
          ]
        }
      ],
      "source": [
        "# Write your code here\n",
        "\n",
        "\"\"\"### Q7:- Write a program to find the sum of squares of first n natural numbers where n will be provided by the user.\"\"\"\n",
        "n=int(input(\"enter the number\"))\n",
        "sum=0\n",
        "for i  in range(n+1):\n",
        " sum+=i**2\n",
        "print(sum)\n"
      ]
    },
    {
      "cell_type": "code",
      "execution_count": null,
      "metadata": {
        "colab": {
          "base_uri": "https://localhost:8080/"
        },
        "id": "jesl0giIxhgi",
        "outputId": "ddf6124f-6229-4cd6-aaec-93ada380e5f0"
      },
      "outputs": [
        {
          "name": "stdout",
          "output_type": "stream",
          "text": [
            "enter first  term10\n",
            "enter second term20\n",
            "enter the number of terms in the series 5\n",
            "50\n"
          ]
        }
      ],
      "source": [
        "##Q8:- Given the first 2 terms of an Arithmetic Series.Find the Nth term of the series. Assume all inputs are provided by the user.\n",
        "a=int(input(\"enter first  term\"))\n",
        "a1=int(input(\"enter second term\"))\n",
        "n=int(input(\"enter the number of terms in the series \"))\n",
        "d=a1-a\n",
        "an=a+ (n - 1)*d\n",
        "print(an)\n",
        "\n",
        "\n"
      ]
    },
    {
      "cell_type": "code",
      "execution_count": null,
      "metadata": {
        "colab": {
          "base_uri": "https://localhost:8080/"
        },
        "id": "iaaGS-6M5I2X",
        "outputId": "f20be02c-e726-451a-c043-aa9635994f5d"
      },
      "outputs": [
        {
          "name": "stdout",
          "output_type": "stream",
          "text": [
            "Enter numerator of first fraction: 1\n",
            "Enter denominator of first fraction: 2\n",
            "Enter numerator of second fraction: 1\n",
            "Enter denominator of second fraction: 3\n",
            "5 / 6\n"
          ]
        }
      ],
      "source": [
        "#Given 2 fractions, find the sum of those 2 fractions.Take the numerator and denominator values of the fractions from the user.\"\"\"\n",
        "a = int(input(\"Enter numerator of first fraction: \"))\n",
        "b = int(input(\"Enter denominator of first fraction: \"))\n",
        "c = int(input(\"Enter numerator of second fraction: \"))\n",
        "d = int(input(\"Enter denominator of second fraction: \"))\n",
        "numerator = a * b + c * d\n",
        "denominator = b * d\n",
        "print(numerator,\"/\",denominator)\n"
      ]
    },
    {
      "cell_type": "code",
      "execution_count": null,
      "metadata": {
        "colab": {
          "base_uri": "https://localhost:8080/"
        },
        "id": "dA5YdYWA9Vzt",
        "outputId": "be55889c-9de0-45cf-c305-4d5e48f2a363"
      },
      "outputs": [
        {
          "name": "stdout",
          "output_type": "stream",
          "text": [
            "Enter value of height 20\n",
            "Enter value of  l20\n",
            "Enter value of  b20\n",
            "Enter value of  h of glass3\n",
            "Enter value of  r of glass1\n",
            "8000\n",
            "9.42\n",
            "849.0\n"
          ]
        }
      ],
      "source": [
        "\"\"\"given the height, width and breadth of a milk tank, you have to find out how many glasses of milk can be obtained? Assume all the inputs are provided by the user.\n",
        "\n",
        "\n",
        "\n",
        "Input:<br>\n",
        "Dimensions of the milk tank<br>\n",
        "H = 20cm, L = 20cm, B = 20cm\n",
        "<br><br>\n",
        "Dimensions of the glass<br>\n",
        "h = 3cm, r = 1cm\n",
        "\"\"\"\n",
        "h= int(input(\"Enter value of height \"))\n",
        "l= int(input(\"Enter value of  l\"))\n",
        "b= int(input(\"Enter value of  b\"))\n",
        "h_g= int(input(\"Enter value of  h of glass\"))\n",
        "r= int(input(\"Enter value of  r of glass\"))\n",
        "voc=l*b*h\n",
        "print(voc)\n",
        "pi=3.14\n",
        "vocy=pi*r*r*h_g\n",
        "print(vocy)\n",
        "nog=voc//vocy\n",
        "print(nog)\n",
        "\n"
      ]
    },
    {
      "cell_type": "code",
      "execution_count": null,
      "metadata": {
        "colab": {
          "base_uri": "https://localhost:8080/"
        },
        "id": "rCFcfkt6P2aQ",
        "outputId": "92aafb93-1d1e-49cd-b85d-99cb8c1f86b7"
      },
      "outputs": [
        {
          "name": "stdout",
          "output_type": "stream",
          "text": [
            "Enter steps moved UP: 5\n",
            "Enter steps moved DOWN: 3\n",
            "Enter steps moved LEFT: 2\n",
            "Enter steps moved RIGHT: 3\n",
            "2\n"
          ]
        }
      ],
      "source": [
        "import math\n",
        "x=0\n",
        "y=0\n",
        "up = int(input(\"Enter steps moved UP: \"))\n",
        "down = int(input(\"Enter steps moved DOWN: \"))\n",
        "left = int(input(\"Enter steps moved LEFT: \"))\n",
        "right = int(input(\"Enter steps moved RIGHT: \"))\n",
        "x+=left\n",
        "x-=right\n",
        "y+=up\n",
        "y-=down\n",
        "distance=math.sqrt(x**2+y**2)\n",
        "print(int(distance))"
      ]
    },
    {
      "cell_type": "code",
      "execution_count": null,
      "metadata": {
        "id": "x9rT31Mpyr3I"
      },
      "outputs": [],
      "source": []
    }
  ],
  "metadata": {
    "colab": {
      "provenance": []
    },
    "kernelspec": {
      "display_name": "base",
      "language": "python",
      "name": "python3"
    },
    "language_info": {
      "codemirror_mode": {
        "name": "ipython",
        "version": 3
      },
      "file_extension": ".py",
      "mimetype": "text/x-python",
      "name": "python",
      "nbconvert_exporter": "python",
      "pygments_lexer": "ipython3",
      "version": "3.11.7"
    }
  },
  "nbformat": 4,
  "nbformat_minor": 0
}
